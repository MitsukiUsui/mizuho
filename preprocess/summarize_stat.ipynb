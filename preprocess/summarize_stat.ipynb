{
 "cells": [
  {
   "cell_type": "code",
   "execution_count": 1,
   "metadata": {
    "collapsed": true
   },
   "outputs": [],
   "source": [
    "import os\n",
    "import pandas as pd"
   ]
  },
  {
   "cell_type": "code",
   "execution_count": 2,
   "metadata": {
    "collapsed": true
   },
   "outputs": [],
   "source": [
    "def get_stat(seqFilepath, key):\n",
    "    \"\"\"\n",
    "    given fastqFilepath, search stat file and return value correspond to key\n",
    "    \"\"\"\n",
    "    \n",
    "    statFilepath=seqFilepath.split('.fastq')[0] + \".stat\"\n",
    "    if not(os.path.isfile(statFilepath)):\n",
    "        print(\"ERROR: stat file not exists, {}\".format(statFilepath))\n",
    "        return None\n",
    "    stat_df=pd.read_csv(statFilepath, delimiter='\\t')\n",
    "    if not(key in stat_df.columns):\n",
    "        print(\"ERROR: key not exists, {}\".format(key))\n",
    "        return None\n",
    "    return stat_df.loc[0, key]"
   ]
  },
  {
   "cell_type": "code",
   "execution_count": 3,
   "metadata": {},
   "outputs": [
    {
     "data": {
      "text/html": [
       "<div>\n",
       "<table border=\"1\" class=\"dataframe\">\n",
       "  <thead>\n",
       "    <tr style=\"text-align: right;\">\n",
       "      <th></th>\n",
       "      <th>fastq_id</th>\n",
       "      <th>sample_id</th>\n",
       "      <th>direction</th>\n",
       "      <th>filepath</th>\n",
       "      <th>filepath_google</th>\n",
       "      <th>filepath_sqc</th>\n",
       "      <th>MFC_id</th>\n",
       "      <th>elapsed_months</th>\n",
       "      <th>position</th>\n",
       "      <th>position_sub</th>\n",
       "      <th>read_length</th>\n",
       "      <th>size_bp</th>\n",
       "    </tr>\n",
       "  </thead>\n",
       "  <tbody>\n",
       "    <tr>\n",
       "      <th>0</th>\n",
       "      <td>MFC2_03m_anode_1_R1</td>\n",
       "      <td>MFC2_03m_anode_1</td>\n",
       "      <td>R1</td>\n",
       "      <td>/work/GoryaninU/mitsuki/mizuho/dna/row/MFC2_03...</td>\n",
       "      <td>/work/GoryaninU/mitsuki/mizuho/dna/row/3months...</td>\n",
       "      <td>/work/sqc_data/GoryaninU/150217_M02137_0066_00...</td>\n",
       "      <td>2</td>\n",
       "      <td>3</td>\n",
       "      <td>anode</td>\n",
       "      <td>NaN</td>\n",
       "      <td>310</td>\n",
       "      <td>1112588447</td>\n",
       "    </tr>\n",
       "    <tr>\n",
       "      <th>1</th>\n",
       "      <td>MFC2_03m_anode_1_R2</td>\n",
       "      <td>MFC2_03m_anode_1</td>\n",
       "      <td>R2</td>\n",
       "      <td>/work/GoryaninU/mitsuki/mizuho/dna/row/MFC2_03...</td>\n",
       "      <td>/work/GoryaninU/mitsuki/mizuho/dna/row/3months...</td>\n",
       "      <td>/work/sqc_data/GoryaninU/150217_M02137_0066_00...</td>\n",
       "      <td>2</td>\n",
       "      <td>3</td>\n",
       "      <td>anode</td>\n",
       "      <td>NaN</td>\n",
       "      <td>310</td>\n",
       "      <td>1391003532</td>\n",
       "    </tr>\n",
       "    <tr>\n",
       "      <th>2</th>\n",
       "      <td>MFC2_03m_anode_2_R1</td>\n",
       "      <td>MFC2_03m_anode_2</td>\n",
       "      <td>R1</td>\n",
       "      <td>/work/GoryaninU/mitsuki/mizuho/dna/row/MFC2_03...</td>\n",
       "      <td>/work/GoryaninU/mitsuki/mizuho/dna/row/3months...</td>\n",
       "      <td>/work/sqc_data/GoryaninU/140627_M02137_0045_00...</td>\n",
       "      <td>2</td>\n",
       "      <td>3</td>\n",
       "      <td>anode</td>\n",
       "      <td>NaN</td>\n",
       "      <td>310</td>\n",
       "      <td>363318360</td>\n",
       "    </tr>\n",
       "    <tr>\n",
       "      <th>3</th>\n",
       "      <td>MFC2_03m_anode_2_R2</td>\n",
       "      <td>MFC2_03m_anode_2</td>\n",
       "      <td>R2</td>\n",
       "      <td>/work/GoryaninU/mitsuki/mizuho/dna/row/MFC2_03...</td>\n",
       "      <td>/work/GoryaninU/mitsuki/mizuho/dna/row/3months...</td>\n",
       "      <td>/work/sqc_data/GoryaninU/140627_M02137_0045_00...</td>\n",
       "      <td>2</td>\n",
       "      <td>3</td>\n",
       "      <td>anode</td>\n",
       "      <td>NaN</td>\n",
       "      <td>310</td>\n",
       "      <td>423863194</td>\n",
       "    </tr>\n",
       "    <tr>\n",
       "      <th>4</th>\n",
       "      <td>MFC2_03m_chamber2_1_R1</td>\n",
       "      <td>MFC2_03m_chamber2_1</td>\n",
       "      <td>R1</td>\n",
       "      <td>/work/GoryaninU/mitsuki/mizuho/dna/row/MFC2_03...</td>\n",
       "      <td>/work/GoryaninU/mitsuki/mizuho/dna/row/3months...</td>\n",
       "      <td>/work/sqc_data/GoryaninU/140627_M02137_0045_00...</td>\n",
       "      <td>2</td>\n",
       "      <td>3</td>\n",
       "      <td>chamber</td>\n",
       "      <td>chamber2</td>\n",
       "      <td>310</td>\n",
       "      <td>415939242</td>\n",
       "    </tr>\n",
       "  </tbody>\n",
       "</table>\n",
       "</div>"
      ],
      "text/plain": [
       "                 fastq_id            sample_id direction  \\\n",
       "0     MFC2_03m_anode_1_R1     MFC2_03m_anode_1        R1   \n",
       "1     MFC2_03m_anode_1_R2     MFC2_03m_anode_1        R2   \n",
       "2     MFC2_03m_anode_2_R1     MFC2_03m_anode_2        R1   \n",
       "3     MFC2_03m_anode_2_R2     MFC2_03m_anode_2        R2   \n",
       "4  MFC2_03m_chamber2_1_R1  MFC2_03m_chamber2_1        R1   \n",
       "\n",
       "                                            filepath  \\\n",
       "0  /work/GoryaninU/mitsuki/mizuho/dna/row/MFC2_03...   \n",
       "1  /work/GoryaninU/mitsuki/mizuho/dna/row/MFC2_03...   \n",
       "2  /work/GoryaninU/mitsuki/mizuho/dna/row/MFC2_03...   \n",
       "3  /work/GoryaninU/mitsuki/mizuho/dna/row/MFC2_03...   \n",
       "4  /work/GoryaninU/mitsuki/mizuho/dna/row/MFC2_03...   \n",
       "\n",
       "                                     filepath_google  \\\n",
       "0  /work/GoryaninU/mitsuki/mizuho/dna/row/3months...   \n",
       "1  /work/GoryaninU/mitsuki/mizuho/dna/row/3months...   \n",
       "2  /work/GoryaninU/mitsuki/mizuho/dna/row/3months...   \n",
       "3  /work/GoryaninU/mitsuki/mizuho/dna/row/3months...   \n",
       "4  /work/GoryaninU/mitsuki/mizuho/dna/row/3months...   \n",
       "\n",
       "                                        filepath_sqc  MFC_id  elapsed_months  \\\n",
       "0  /work/sqc_data/GoryaninU/150217_M02137_0066_00...       2               3   \n",
       "1  /work/sqc_data/GoryaninU/150217_M02137_0066_00...       2               3   \n",
       "2  /work/sqc_data/GoryaninU/140627_M02137_0045_00...       2               3   \n",
       "3  /work/sqc_data/GoryaninU/140627_M02137_0045_00...       2               3   \n",
       "4  /work/sqc_data/GoryaninU/140627_M02137_0045_00...       2               3   \n",
       "\n",
       "  position position_sub  read_length     size_bp  \n",
       "0    anode          NaN          310  1112588447  \n",
       "1    anode          NaN          310  1391003532  \n",
       "2    anode          NaN          310   363318360  \n",
       "3    anode          NaN          310   423863194  \n",
       "4  chamber     chamber2          310   415939242  "
      ]
     },
     "execution_count": 3,
     "metadata": {},
     "output_type": "execute_result"
    }
   ],
   "source": [
    "metaFilepath=\"mizuho_metadata_dna.csv\"\n",
    "meta_df=pd.read_csv(metaFilepath)\n",
    "meta_df.head()"
   ]
  },
  {
   "cell_type": "code",
   "execution_count": 4,
   "metadata": {
    "collapsed": true
   },
   "outputs": [],
   "source": [
    "dct_lst=[]\n",
    "baseDirec=\"/work/GoryaninU/mitsuki/mizuho/dna\"\n",
    "for fastqId in meta_df[\"fastq_id\"]:\n",
    "    step_lst=[\"row\", \"trim\", \"correct\", \"filter\"]\n",
    "    fp_lst=[]\n",
    "    fp_lst.append(\"{}/row/{}.fastq.gz\".format(baseDirec, fastqId))\n",
    "    fp_lst.append(\"{}/trim/{}.fastq\".format(baseDirec, fastqId))\n",
    "    fp_lst.append(\"{}/filter/{}.tmp.fastq\".format(baseDirec, fastqId))\n",
    "    fp_lst.append(\"{}/filter/{}.fastq\".format(baseDirec, fastqId))\n",
    "    assert len(step_lst)==len(fp_lst)\n",
    "    \n",
    "    dct={\"fastq_id\": fastqId}\n",
    "    for step, fp in zip(step_lst, fp_lst):\n",
    "        dct[step]=get_stat(fp, \"num_seqs\")\n",
    "    dct_lst.append(dct)"
   ]
  },
  {
   "cell_type": "code",
   "execution_count": 5,
   "metadata": {},
   "outputs": [
    {
     "data": {
      "text/html": [
       "<div>\n",
       "<table border=\"1\" class=\"dataframe\">\n",
       "  <thead>\n",
       "    <tr style=\"text-align: right;\">\n",
       "      <th></th>\n",
       "      <th>fastq_id</th>\n",
       "      <th>row</th>\n",
       "      <th>trim</th>\n",
       "      <th>correct</th>\n",
       "      <th>filter</th>\n",
       "      <th>per</th>\n",
       "    </tr>\n",
       "  </thead>\n",
       "  <tbody>\n",
       "    <tr>\n",
       "      <th>0</th>\n",
       "      <td>MFC2_03m_anode_1_R1</td>\n",
       "      <td>4830140</td>\n",
       "      <td>4823635</td>\n",
       "      <td>3504562</td>\n",
       "      <td>3292101</td>\n",
       "      <td>68.157465</td>\n",
       "    </tr>\n",
       "    <tr>\n",
       "      <th>1</th>\n",
       "      <td>MFC2_03m_anode_1_R2</td>\n",
       "      <td>4830140</td>\n",
       "      <td>4823635</td>\n",
       "      <td>3683251</td>\n",
       "      <td>3292101</td>\n",
       "      <td>68.157465</td>\n",
       "    </tr>\n",
       "    <tr>\n",
       "      <th>2</th>\n",
       "      <td>MFC2_03m_anode_2_R1</td>\n",
       "      <td>1459909</td>\n",
       "      <td>1457722</td>\n",
       "      <td>823750</td>\n",
       "      <td>736816</td>\n",
       "      <td>50.469995</td>\n",
       "    </tr>\n",
       "    <tr>\n",
       "      <th>3</th>\n",
       "      <td>MFC2_03m_anode_2_R2</td>\n",
       "      <td>1459909</td>\n",
       "      <td>1457722</td>\n",
       "      <td>886691</td>\n",
       "      <td>736816</td>\n",
       "      <td>50.469995</td>\n",
       "    </tr>\n",
       "    <tr>\n",
       "      <th>4</th>\n",
       "      <td>MFC2_03m_chamber2_1_R1</td>\n",
       "      <td>1744919</td>\n",
       "      <td>1734885</td>\n",
       "      <td>885377</td>\n",
       "      <td>784211</td>\n",
       "      <td>44.942545</td>\n",
       "    </tr>\n",
       "  </tbody>\n",
       "</table>\n",
       "</div>"
      ],
      "text/plain": [
       "                 fastq_id      row     trim  correct   filter        per\n",
       "0     MFC2_03m_anode_1_R1  4830140  4823635  3504562  3292101  68.157465\n",
       "1     MFC2_03m_anode_1_R2  4830140  4823635  3683251  3292101  68.157465\n",
       "2     MFC2_03m_anode_2_R1  1459909  1457722   823750   736816  50.469995\n",
       "3     MFC2_03m_anode_2_R2  1459909  1457722   886691   736816  50.469995\n",
       "4  MFC2_03m_chamber2_1_R1  1744919  1734885   885377   784211  44.942545"
      ]
     },
     "execution_count": 5,
     "metadata": {},
     "output_type": "execute_result"
    }
   ],
   "source": [
    "out_df=pd.DataFrame(dct_lst)\n",
    "out_df=out_df[[\"fastq_id\", \"row\", \"trim\", \"correct\", \"filter\"]]\n",
    "out_df[\"per\"]=out_df[\"filter\"]/out_df[\"row\"]*100\n",
    "out_df.head()"
   ]
  },
  {
   "cell_type": "code",
   "execution_count": 6,
   "metadata": {
    "collapsed": true
   },
   "outputs": [],
   "source": [
    "out_df.to_csv(\"./out/num_seqs.csv\", index=False)"
   ]
  },
  {
   "cell_type": "code",
   "execution_count": null,
   "metadata": {
    "collapsed": true
   },
   "outputs": [],
   "source": [
    "seqFilepath=\"/work/GoryaninU/mitsuki/mizuho/dna/row/MFC2_36m_channel8_R2.fastq.gz\"\n",
    "get_num_seqs(seqFilepath)"
   ]
  },
  {
   "cell_type": "code",
   "execution_count": null,
   "metadata": {
    "collapsed": true
   },
   "outputs": [],
   "source": []
  }
 ],
 "metadata": {
  "kernelspec": {
   "display_name": "Python 3",
   "language": "python",
   "name": "python3"
  },
  "language_info": {
   "codemirror_mode": {
    "name": "ipython",
    "version": 3
   },
   "file_extension": ".py",
   "mimetype": "text/x-python",
   "name": "python",
   "nbconvert_exporter": "python",
   "pygments_lexer": "ipython3",
   "version": "3.5.0"
  }
 },
 "nbformat": 4,
 "nbformat_minor": 2
}
