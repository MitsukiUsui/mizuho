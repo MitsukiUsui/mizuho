{
 "cells": [
  {
   "cell_type": "code",
   "execution_count": 1,
   "metadata": {
    "collapsed": true
   },
   "outputs": [],
   "source": [
    "import os\n",
    "import pandas as pd"
   ]
  },
  {
   "cell_type": "code",
   "execution_count": 2,
   "metadata": {
    "collapsed": true
   },
   "outputs": [],
   "source": [
    "def get_stat(seqFilepath, key):\n",
    "    \"\"\"\n",
    "    given fastqFilepath, search stat file and return value correspond to key\n",
    "    \"\"\"\n",
    "    \n",
    "    statFilepath=seqFilepath.split('.fastq')[0] + \".stat\"\n",
    "    if not(os.path.isfile(statFilepath)):\n",
    "        print(\"ERROR: stat file not exists, {}\".format(statFilepath))\n",
    "        return None\n",
    "    stat_df=pd.read_csv(statFilepath, delimiter='\\t')\n",
    "    if not(key in stat_df.columns):\n",
    "        print(\"ERROR: key not exists, {}\".format(key))\n",
    "        return None\n",
    "    return stat_df.loc[0, key]"
   ]
  },
  {
   "cell_type": "code",
   "execution_count": 3,
   "metadata": {},
   "outputs": [
    {
     "data": {
      "text/html": [
       "<div>\n",
       "<table border=\"1\" class=\"dataframe\">\n",
       "  <thead>\n",
       "    <tr style=\"text-align: right;\">\n",
       "      <th></th>\n",
       "      <th>fastq_id</th>\n",
       "      <th>sample_id</th>\n",
       "      <th>direction</th>\n",
       "      <th>raw</th>\n",
       "      <th>google</th>\n",
       "      <th>sqc</th>\n",
       "    </tr>\n",
       "  </thead>\n",
       "  <tbody>\n",
       "    <tr>\n",
       "      <th>0</th>\n",
       "      <td>MFC1_06m_anode_felt_1_R1</td>\n",
       "      <td>MFC1_06m_anode_felt_1</td>\n",
       "      <td>R1</td>\n",
       "      <td>/work/GoryaninU/mitsuki/mizuho/dna/raw/MFC1_06...</td>\n",
       "      <td>/work/GoryaninU/mitsuki/mizuho/dna/google/6mon...</td>\n",
       "      <td>/work/sqc_data/GoryaninU/150225_M02343_0059_00...</td>\n",
       "    </tr>\n",
       "    <tr>\n",
       "      <th>1</th>\n",
       "      <td>MFC1_06m_anode_felt_1_R2</td>\n",
       "      <td>MFC1_06m_anode_felt_1</td>\n",
       "      <td>R2</td>\n",
       "      <td>/work/GoryaninU/mitsuki/mizuho/dna/raw/MFC1_06...</td>\n",
       "      <td>/work/GoryaninU/mitsuki/mizuho/dna/google/6mon...</td>\n",
       "      <td>/work/sqc_data/GoryaninU/150225_M02343_0059_00...</td>\n",
       "    </tr>\n",
       "    <tr>\n",
       "      <th>2</th>\n",
       "      <td>MFC1_06m_anode_felt_2_R1</td>\n",
       "      <td>MFC1_06m_anode_felt_2</td>\n",
       "      <td>R1</td>\n",
       "      <td>/work/GoryaninU/mitsuki/mizuho/dna/raw/MFC1_06...</td>\n",
       "      <td>/work/GoryaninU/mitsuki/mizuho/dna/google/6mon...</td>\n",
       "      <td>/work/sqc_data/GoryaninU/140627_M02137_0045_00...</td>\n",
       "    </tr>\n",
       "    <tr>\n",
       "      <th>3</th>\n",
       "      <td>MFC1_06m_anode_felt_2_R2</td>\n",
       "      <td>MFC1_06m_anode_felt_2</td>\n",
       "      <td>R2</td>\n",
       "      <td>/work/GoryaninU/mitsuki/mizuho/dna/raw/MFC1_06...</td>\n",
       "      <td>/work/GoryaninU/mitsuki/mizuho/dna/google/6mon...</td>\n",
       "      <td>/work/sqc_data/GoryaninU/140627_M02137_0045_00...</td>\n",
       "    </tr>\n",
       "    <tr>\n",
       "      <th>4</th>\n",
       "      <td>MFC1_06m_anode_granules_1_R1</td>\n",
       "      <td>MFC1_06m_anode_granules_1</td>\n",
       "      <td>R1</td>\n",
       "      <td>/work/GoryaninU/mitsuki/mizuho/dna/raw/MFC1_06...</td>\n",
       "      <td>/work/GoryaninU/mitsuki/mizuho/dna/google/6mon...</td>\n",
       "      <td>/work/sqc_data/GoryaninU/150225_M02343_0059_00...</td>\n",
       "    </tr>\n",
       "  </tbody>\n",
       "</table>\n",
       "</div>"
      ],
      "text/plain": [
       "                       fastq_id                  sample_id direction  \\\n",
       "0      MFC1_06m_anode_felt_1_R1      MFC1_06m_anode_felt_1        R1   \n",
       "1      MFC1_06m_anode_felt_1_R2      MFC1_06m_anode_felt_1        R2   \n",
       "2      MFC1_06m_anode_felt_2_R1      MFC1_06m_anode_felt_2        R1   \n",
       "3      MFC1_06m_anode_felt_2_R2      MFC1_06m_anode_felt_2        R2   \n",
       "4  MFC1_06m_anode_granules_1_R1  MFC1_06m_anode_granules_1        R1   \n",
       "\n",
       "                                                 raw  \\\n",
       "0  /work/GoryaninU/mitsuki/mizuho/dna/raw/MFC1_06...   \n",
       "1  /work/GoryaninU/mitsuki/mizuho/dna/raw/MFC1_06...   \n",
       "2  /work/GoryaninU/mitsuki/mizuho/dna/raw/MFC1_06...   \n",
       "3  /work/GoryaninU/mitsuki/mizuho/dna/raw/MFC1_06...   \n",
       "4  /work/GoryaninU/mitsuki/mizuho/dna/raw/MFC1_06...   \n",
       "\n",
       "                                              google  \\\n",
       "0  /work/GoryaninU/mitsuki/mizuho/dna/google/6mon...   \n",
       "1  /work/GoryaninU/mitsuki/mizuho/dna/google/6mon...   \n",
       "2  /work/GoryaninU/mitsuki/mizuho/dna/google/6mon...   \n",
       "3  /work/GoryaninU/mitsuki/mizuho/dna/google/6mon...   \n",
       "4  /work/GoryaninU/mitsuki/mizuho/dna/google/6mon...   \n",
       "\n",
       "                                                 sqc  \n",
       "0  /work/sqc_data/GoryaninU/150225_M02343_0059_00...  \n",
       "1  /work/sqc_data/GoryaninU/150225_M02343_0059_00...  \n",
       "2  /work/sqc_data/GoryaninU/140627_M02137_0045_00...  \n",
       "3  /work/sqc_data/GoryaninU/140627_M02137_0045_00...  \n",
       "4  /work/sqc_data/GoryaninU/150225_M02343_0059_00...  "
      ]
     },
     "execution_count": 3,
     "metadata": {},
     "output_type": "execute_result"
    }
   ],
   "source": [
    "fastqFilepath=\"filepath_dna.csv\"\n",
    "fastq_df=pd.read_csv(fastqFilepath)\n",
    "fastq_df.head()"
   ]
  },
  {
   "cell_type": "code",
   "execution_count": 11,
   "metadata": {},
   "outputs": [
    {
     "name": "stdout",
     "output_type": "stream",
     "text": [
      "118\n"
     ]
    }
   ],
   "source": [
    "fastqId_lst=[]\n",
    "for metaFilepath in (\"mizuho_metadata_dna.csv\", \"re_mizuho_metadata_dna.csv\"):\n",
    "    meta_df=pd.read_csv(metaFilepath)\n",
    "    fastqId_lst+=list(meta_df[\"fastq_id\"])\n",
    "print(len(fastqId_lst))"
   ]
  },
  {
   "cell_type": "code",
   "execution_count": 5,
   "metadata": {},
   "outputs": [],
   "source": [
    "sampleId_lst=[\"MFC2_reference_1\", \"MFC2_reference_2\", \"MFC3_reference\"]\n",
    "fastqId_lst=[]\n",
    "for sampleId in sampleId_lst:\n",
    "    fastqId_lst.append(sampleId+\"_R1\")\n",
    "    fastqId_lst.append(sampleId+\"_R2\")"
   ]
  },
  {
   "cell_type": "code",
   "execution_count": 6,
   "metadata": {},
   "outputs": [
    {
     "data": {
      "text/plain": [
       "['MFC2_reference_1_R1',\n",
       " 'MFC2_reference_1_R2',\n",
       " 'MFC2_reference_2_R1',\n",
       " 'MFC2_reference_2_R2',\n",
       " 'MFC3_reference_R1',\n",
       " 'MFC3_reference_R2']"
      ]
     },
     "execution_count": 6,
     "metadata": {},
     "output_type": "execute_result"
    }
   ],
   "source": [
    "fastqId_lst"
   ]
  },
  {
   "cell_type": "code",
   "execution_count": 7,
   "metadata": {},
   "outputs": [
    {
     "name": "stdout",
     "output_type": "stream",
     "text": [
      "START: MFC2_reference_1_R1\n",
      "ERROR: stat file not exists, /work/GoryaninU/mitsuki/mizuho/dna/row/MFC2_reference_1_R1.stat\n",
      "START: MFC2_reference_1_R2\n",
      "ERROR: stat file not exists, /work/GoryaninU/mitsuki/mizuho/dna/row/MFC2_reference_1_R2.stat\n",
      "START: MFC2_reference_2_R1\n",
      "ERROR: stat file not exists, /work/GoryaninU/mitsuki/mizuho/dna/row/MFC2_reference_2_R1.stat\n",
      "START: MFC2_reference_2_R2\n",
      "ERROR: stat file not exists, /work/GoryaninU/mitsuki/mizuho/dna/row/MFC2_reference_2_R2.stat\n",
      "START: MFC3_reference_R1\n",
      "ERROR: stat file not exists, /work/GoryaninU/mitsuki/mizuho/dna/row/MFC3_reference_R1.stat\n",
      "START: MFC3_reference_R2\n",
      "ERROR: stat file not exists, /work/GoryaninU/mitsuki/mizuho/dna/row/MFC3_reference_R2.stat\n"
     ]
    }
   ],
   "source": [
    "dct_lst=[]\n",
    "baseDirec=\"/work/GoryaninU/mitsuki/mizuho/dna\"\n",
    "for fastqId in fastqId_lst:\n",
    "    print(\"START: {}\".format(fastqId))\n",
    "    step_lst=[\"row\", \"trim\", \"correct\", \"filter\"]\n",
    "    fp_lst=[]\n",
    "    fp_lst.append(\"{}/row/{}.fastq.gz\".format(baseDirec, fastqId))\n",
    "    fp_lst.append(\"{}/trim/{}.fastq\".format(baseDirec, fastqId))\n",
    "    fp_lst.append(\"{}/filter/{}.tmp.fastq\".format(baseDirec, fastqId))\n",
    "    fp_lst.append(\"{}/filter/{}.fastq\".format(baseDirec, fastqId))\n",
    "    assert len(step_lst)==len(fp_lst)\n",
    "    \n",
    "    dct={\"fastq_id\": fastqId}\n",
    "    for step, fp in zip(step_lst, fp_lst):\n",
    "        dct[step]=get_stat(fp, \"num_seqs\")\n",
    "    dct_lst.append(dct)"
   ]
  },
  {
   "cell_type": "code",
   "execution_count": 9,
   "metadata": {
    "scrolled": true
   },
   "outputs": [
    {
     "data": {
      "text/html": [
       "<div>\n",
       "<table border=\"1\" class=\"dataframe\">\n",
       "  <thead>\n",
       "    <tr style=\"text-align: right;\">\n",
       "      <th></th>\n",
       "      <th>fastq_id</th>\n",
       "      <th>row</th>\n",
       "      <th>trim</th>\n",
       "      <th>correct</th>\n",
       "      <th>filter</th>\n",
       "      <th>per</th>\n",
       "    </tr>\n",
       "  </thead>\n",
       "  <tbody>\n",
       "    <tr>\n",
       "      <th>0</th>\n",
       "      <td>MFC2_reference_1_R1</td>\n",
       "      <td>None</td>\n",
       "      <td>6094565</td>\n",
       "      <td>4850101</td>\n",
       "      <td>4688031</td>\n",
       "      <td>NaN</td>\n",
       "    </tr>\n",
       "    <tr>\n",
       "      <th>1</th>\n",
       "      <td>MFC2_reference_1_R2</td>\n",
       "      <td>None</td>\n",
       "      <td>6094565</td>\n",
       "      <td>5061507</td>\n",
       "      <td>4688031</td>\n",
       "      <td>NaN</td>\n",
       "    </tr>\n",
       "    <tr>\n",
       "      <th>2</th>\n",
       "      <td>MFC2_reference_2_R1</td>\n",
       "      <td>None</td>\n",
       "      <td>1915273</td>\n",
       "      <td>1215544</td>\n",
       "      <td>1145179</td>\n",
       "      <td>NaN</td>\n",
       "    </tr>\n",
       "    <tr>\n",
       "      <th>3</th>\n",
       "      <td>MFC2_reference_2_R2</td>\n",
       "      <td>None</td>\n",
       "      <td>1915273</td>\n",
       "      <td>1337857</td>\n",
       "      <td>1145179</td>\n",
       "      <td>NaN</td>\n",
       "    </tr>\n",
       "    <tr>\n",
       "      <th>4</th>\n",
       "      <td>MFC3_reference_R1</td>\n",
       "      <td>None</td>\n",
       "      <td>1283219</td>\n",
       "      <td>777481</td>\n",
       "      <td>703553</td>\n",
       "      <td>NaN</td>\n",
       "    </tr>\n",
       "    <tr>\n",
       "      <th>5</th>\n",
       "      <td>MFC3_reference_R2</td>\n",
       "      <td>None</td>\n",
       "      <td>1283219</td>\n",
       "      <td>811044</td>\n",
       "      <td>703553</td>\n",
       "      <td>NaN</td>\n",
       "    </tr>\n",
       "  </tbody>\n",
       "</table>\n",
       "</div>"
      ],
      "text/plain": [
       "              fastq_id   row     trim  correct   filter  per\n",
       "0  MFC2_reference_1_R1  None  6094565  4850101  4688031  NaN\n",
       "1  MFC2_reference_1_R2  None  6094565  5061507  4688031  NaN\n",
       "2  MFC2_reference_2_R1  None  1915273  1215544  1145179  NaN\n",
       "3  MFC2_reference_2_R2  None  1915273  1337857  1145179  NaN\n",
       "4    MFC3_reference_R1  None  1283219   777481   703553  NaN\n",
       "5    MFC3_reference_R2  None  1283219   811044   703553  NaN"
      ]
     },
     "execution_count": 9,
     "metadata": {},
     "output_type": "execute_result"
    }
   ],
   "source": [
    "out_df=pd.DataFrame(dct_lst)\n",
    "out_df=out_df[[\"fastq_id\", \"row\", \"trim\", \"correct\", \"filter\"]]\n",
    "out_df[\"per\"]=out_df[\"filter\"]/out_df[\"row\"]*100\n",
    "out_df"
   ]
  },
  {
   "cell_type": "code",
   "execution_count": 22,
   "metadata": {},
   "outputs": [
    {
     "data": {
      "text/plain": [
       "55.886315613837759"
      ]
     },
     "execution_count": 22,
     "metadata": {},
     "output_type": "execute_result"
    }
   ],
   "source": [
    "out_df[\"per\"].mean()"
   ]
  },
  {
   "cell_type": "code",
   "execution_count": 6,
   "metadata": {
    "collapsed": true
   },
   "outputs": [],
   "source": [
    "out_df.to_csv(\"./out/num_seqs.csv\", index=False)"
   ]
  },
  {
   "cell_type": "code",
   "execution_count": null,
   "metadata": {
    "collapsed": true
   },
   "outputs": [],
   "source": [
    "seqFilepath=\"/work/GoryaninU/mitsuki/mizuho/dna/row/MFC2_36m_channel8_R2.fastq.gz\"\n",
    "get_num_seqs(seqFilepath)"
   ]
  },
  {
   "cell_type": "code",
   "execution_count": null,
   "metadata": {
    "collapsed": true
   },
   "outputs": [],
   "source": []
  }
 ],
 "metadata": {
  "kernelspec": {
   "display_name": "Python 3",
   "language": "python",
   "name": "python3"
  },
  "language_info": {
   "codemirror_mode": {
    "name": "ipython",
    "version": 3
   },
   "file_extension": ".py",
   "mimetype": "text/x-python",
   "name": "python",
   "nbconvert_exporter": "python",
   "pygments_lexer": "ipython3",
   "version": "3.5.0"
  }
 },
 "nbformat": 4,
 "nbformat_minor": 2
}
